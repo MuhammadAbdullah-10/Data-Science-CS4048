{
 "cells": [
  {
   "cell_type": "markdown",
   "id": "940b0661-7eb3-4f57-895a-796b513603c8",
   "metadata": {},
   "source": [
    "Muhammad Abdullah(22P-9371) \n",
    "BCS-6B\n",
    "Data Science Assignment: 1"
   ]
  },
  {
   "cell_type": "markdown",
   "id": "7173001d-3870-4ea6-9c99-8b13a779e094",
   "metadata": {},
   "source": [
    "Question 1 [5 points]: Write a Python program that takes a list of integers as input and finds the two numbers that add up to a given target sum (also input by the user). The program should return the indices of the two numbers as well as the numbers if they exist."
   ]
  },
  {
   "cell_type": "code",
   "execution_count": 1,
   "id": "df62f871-5c6e-42d3-b333-46d2e07186ac",
   "metadata": {},
   "outputs": [
    {
     "name": "stdout",
     "output_type": "stream",
     "text": [
      "First index is 0\n",
      "Second index is 2\n",
      "Two numbers that add up the targeted Sum are 1 and 3.\n"
     ]
    }
   ],
   "source": [
    "def checkSum(l1, target):\n",
    "    for i in range(len(l1)):\n",
    "        for j in range(i+1,len(l1)):\n",
    "            if l1[i] + l1[j]== target:\n",
    "                return i,j,l1[i],l1[j]                       \n",
    "_len = int(input(\"Enter the number of elements: \"))  \n",
    "listofIntegers = []\n",
    "for i in range(_len):\n",
    "    num = int(input(f\"Enter number {i+1}: \"))\n",
    "    listofIntegers.append(num) \n",
    "targetSum = int(input(\"Enter the target sum: \"))\n",
    "check = checkSum(listofIntegers,targetSum)\n",
    "if check:\n",
    "    index1,index2,element1,element2=check\n",
    "    print(f\"First index is {index1}\\nSecond index is {index2}\\nTwo numbers that add up the targeted Sum are {element1} and {element2}.\")\n",
    "else:\n",
    "    print(\"No pair found\")\n",
    "\n"
   ]
  },
  {
   "cell_type": "markdown",
   "id": "74eb31f9-755b-49ab-9368-e6335cd95773",
   "metadata": {},
   "source": [
    "Question 2 [5 points]: Write a Python program that takes a list of words as input and returns a list of the unique words in descending order of their frequency in the input list.\n",
    "Print frequency of the unique words as well."
   ]
  },
  {
   "cell_type": "code",
   "execution_count": 2,
   "id": "95439f21-185e-4663-b324-862b52deddc2",
   "metadata": {},
   "outputs": [
    {
     "ename": "ValueError",
     "evalue": "invalid literal for int() with base 10: ''",
     "output_type": "error",
     "traceback": [
      "\u001b[0;31m---------------------------------------------------------------------------\u001b[0m",
      "\u001b[0;31mValueError\u001b[0m                                Traceback (most recent call last)",
      "Cell \u001b[0;32mIn[2], line 29\u001b[0m\n\u001b[1;32m     25\u001b[0m         uniqueWords[i], uniqueWords[max_index] \u001b[38;5;241m=\u001b[39m uniqueWords[max_index], uniqueWords[i]\n\u001b[1;32m     27\u001b[0m     \u001b[38;5;28;01mreturn\u001b[39;00m uniqueWords, frequencies\n\u001b[0;32m---> 29\u001b[0m uniqueWords, frequencies \u001b[38;5;241m=\u001b[39m word_frequency()\n\u001b[1;32m     30\u001b[0m \u001b[38;5;28mprint\u001b[39m(\u001b[38;5;124m\"\u001b[39m\u001b[38;5;130;01m\\n\u001b[39;00m\u001b[38;5;124mUnique words sorted by frequency:\u001b[39m\u001b[38;5;124m\"\u001b[39m)\n\u001b[1;32m     31\u001b[0m \u001b[38;5;28;01mfor\u001b[39;00m i \u001b[38;5;129;01min\u001b[39;00m \u001b[38;5;28mrange\u001b[39m(\u001b[38;5;28mlen\u001b[39m(uniqueWords)):\n",
      "Cell \u001b[0;32mIn[2], line 2\u001b[0m, in \u001b[0;36mword_frequency\u001b[0;34m()\u001b[0m\n\u001b[1;32m      1\u001b[0m \u001b[38;5;28;01mdef\u001b[39;00m \u001b[38;5;21mword_frequency\u001b[39m():\n\u001b[0;32m----> 2\u001b[0m     _len \u001b[38;5;241m=\u001b[39m \u001b[38;5;28mint\u001b[39m(\u001b[38;5;28minput\u001b[39m(\u001b[38;5;124m\"\u001b[39m\u001b[38;5;124mEnter the number of words: \u001b[39m\u001b[38;5;124m\"\u001b[39m)) \n\u001b[1;32m      3\u001b[0m     words \u001b[38;5;241m=\u001b[39m [] \n\u001b[1;32m      4\u001b[0m     \u001b[38;5;28;01mfor\u001b[39;00m i \u001b[38;5;129;01min\u001b[39;00m \u001b[38;5;28mrange\u001b[39m(_len):\n",
      "\u001b[0;31mValueError\u001b[0m: invalid literal for int() with base 10: ''"
     ]
    }
   ],
   "source": [
    "def word_frequency():\n",
    "    _len = int(input(\"Enter the number of words: \")) \n",
    "    words = [] \n",
    "    for i in range(_len):\n",
    "        word = input(f\"Enter word {i+1}: \")\n",
    "        words.append(word)\n",
    "\n",
    "    uniqueWords = []  \n",
    "    frequencies = [] \n",
    "\n",
    "    for word in words:\n",
    "        if word in uniqueWords:  \n",
    "            index = uniqueWords.index(word)\n",
    "            frequencies[index] += 1\n",
    "        else:  \n",
    "            uniqueWords.append(word)\n",
    "            frequencies.append(1)\n",
    "    for i in range(len(frequencies)):\n",
    "        max_index = i\n",
    "        for j in range(i + 1, len(frequencies)):\n",
    "            if frequencies[j] > frequencies[max_index]: \n",
    "                max_index = j\n",
    "\n",
    "        frequencies[i], frequencies[max_index] = frequencies[max_index], frequencies[i]\n",
    "        uniqueWords[i], uniqueWords[max_index] = uniqueWords[max_index], uniqueWords[i]\n",
    "\n",
    "    return uniqueWords, frequencies\n",
    "\n",
    "uniqueWords, frequencies = word_frequency()\n",
    "print(\"\\nUnique words sorted by frequency:\")\n",
    "for i in range(len(uniqueWords)):\n",
    "    word = uniqueWords[i]\n",
    "    freq = frequencies[i]\n",
    "    print(f\"{word}: {freq} times\")\n",
    "print(\"List of unique words:\", uniqueWords)\n"
   ]
  },
  {
   "cell_type": "markdown",
   "id": "900c37bd-75ca-4ee7-8664-eff0b2c8c1a1",
   "metadata": {},
   "source": [
    "Question 3 [10 points]: Write a Python program that takes a list of integers as input and returns the longest consecutive sequence of numbers in the list."
   ]
  },
  {
   "cell_type": "code",
   "execution_count": 9,
   "id": "38fc2ce9-cd57-4121-974a-b685d16d4608",
   "metadata": {},
   "outputs": [
    {
     "name": "stdout",
     "output_type": "stream",
     "text": [
      "Enter the number of integers you want to input:  5\n",
      "Enter integer 1:  15\n",
      "Enter integer 2:  2\n",
      "Enter integer 3:  3\n",
      "Enter integer 4:  79\n",
      "Enter integer 5:  1\n"
     ]
    },
    {
     "name": "stdout",
     "output_type": "stream",
     "text": [
      "Longest consecutive sequence: [2, 3]\n"
     ]
    }
   ],
   "source": [
    "def longest_consecutive(nums):\n",
    "    if not nums:\n",
    "        return []\n",
    "\n",
    "    longest_consecutive_sequence = []\n",
    "    current_consecutive_sequence = []\n",
    "\n",
    "    for i in range(len(nums)):\n",
    "        if not current_consecutive_sequence:\n",
    "            current_consecutive_sequence.append(nums[i])\n",
    "        if i + 1 < len(nums) and nums[i + 1] == nums[i] + 1:\n",
    "            current_consecutive_sequence.append(nums[i + 1])\n",
    "        else:\n",
    "            if len(current_consecutive_sequence) > len(longest_consecutive_sequence):\n",
    "                longest_consecutive_sequence = current_consecutive_sequence\n",
    "                \n",
    "            current_consecutive_sequence = []\n",
    "    return longest_consecutive_sequence\n",
    "\n",
    "_len = int(input(\"Enter the number of integers you want to input: \"))\n",
    "l1 = []\n",
    "for i in range(_len):\n",
    "    num = int(input(f\"Enter integer {i+1}: \"))\n",
    "    l1.append(num)\n",
    "sequence = longest_consecutive(l1)\n",
    "print(\"Longest consecutive sequence:\", sequence)\n"
   ]
  },
  {
   "cell_type": "markdown",
   "id": "0802fb1c-6d96-4c3d-b88a-657c0e682508",
   "metadata": {},
   "source": [
    "Question no 4:"
   ]
  },
  {
   "cell_type": "code",
   "execution_count": 14,
   "id": "3f6f8903-fb49-48af-9658-816079459ae3",
   "metadata": {},
   "outputs": [
    {
     "name": "stdout",
     "output_type": "stream",
     "text": [
      "04 3\n",
      "06 1\n",
      "07 1\n",
      "09 2\n",
      "10 3\n",
      "11 6\n",
      "14 1\n",
      "15 2\n",
      "16 4\n",
      "17 2\n",
      "18 1\n",
      "19 1\n"
     ]
    }
   ],
   "source": [
    "def ExtractingHours(datafile):\n",
    "    hour_count = {}\n",
    "\n",
    "    with open(datafile, \"r\") as file:\n",
    "        for line in file:\n",
    "            if line.startswith(\"From \"):  \n",
    "                words = line.split()  \n",
    "                timestamp = words[5]  \n",
    "                hour = timestamp.split(\":\")[0] \n",
    "                hour_count[hour] = hour_count.get(hour, 0) + 1\n",
    "    for hour, count in sorted(hour_count.items()):\n",
    "        print(hour, count)\n",
    "\n",
    "DataFile = \"Data.txt\"\n",
    "ExtractingHours(DataFile)\n"
   ]
  },
  {
   "cell_type": "markdown",
   "id": "5fa6a157-bca8-4847-94ec-3f1fd116fc0a",
   "metadata": {},
   "source": [
    "Question no 5:"
   ]
  },
  {
   "cell_type": "code",
   "execution_count": 10,
   "id": "44ccd693-f97d-4782-9309-ced635af1515",
   "metadata": {},
   "outputs": [
    {
     "name": "stdout",
     "output_type": "stream",
     "text": [
      "\n",
      "Welcome to the Frozen Yogurt Shop!\n",
      "\n",
      "Menu:\n",
      "1. Frozen Yogurt\n",
      "2. Ice Cream\n",
      "3. Cookies\n",
      "4. Toppings\n",
      "\n"
     ]
    },
    {
     "name": "stdout",
     "output_type": "stream",
     "text": [
      "Enter your name:  Abdullah\n"
     ]
    },
    {
     "name": "stdout",
     "output_type": "stream",
     "text": [
      "Hello, Abdullah! Nice to see you.\n"
     ]
    },
    {
     "name": "stdout",
     "output_type": "stream",
     "text": [
      "You want Frozen Yogurt or Ice Cream? (Y: Frozen Yogurt, I: Ice Cream):  I\n",
      "What size? (S: Small, M: Medium, L: Large):  l\n",
      "What kind of container? (V: Cone or U: Cup):  v\n",
      "Do you like to add a topping? (Y: Yes, N: No):  y\n",
      "What topping do you like? (G: Gummies, N: Nuts):  g\n",
      "Do you like to have cookies? (Y: Yes, N: No):  n\n",
      "Do you want to add another item? (Y: Yes, N: No):  n\n"
     ]
    },
    {
     "name": "stdout",
     "output_type": "stream",
     "text": [
      "Your order total is $7.08\n"
     ]
    },
    {
     "name": "stdout",
     "output_type": "stream",
     "text": [
      "Enter C to continue or Q to quit:  q\n"
     ]
    },
    {
     "name": "stdout",
     "output_type": "stream",
     "text": [
      "\n",
      "***************Sales Report***********\n",
      "Customer Name\tOrder Total\n",
      "Abdullah\t$7.08\n",
      "\n",
      "Item\t\t#Orders\tOrder Total\tAverage per Order\n",
      "Ice Cream\t1\t$7.08\t\t7.08\n",
      "\n",
      "Grand Total\t1\t$7.08\t\t7.08\n"
     ]
    }
   ],
   "source": [
    "def display_menu():\n",
    "    print(\"\\nWelcome to the Frozen Yogurt Shop!\\n\")\n",
    "    print(\"Menu:\")\n",
    "    print(\"1. Frozen Yogurt\")\n",
    "    print(\"2. Ice Cream\")\n",
    "    print(\"3. Cookies\")\n",
    "    print(\"4. Toppings\\n\")\n",
    "\n",
    "def get_price(item, size, container=None):\n",
    "    prices = { \"Frozen Yogurt\": {\"S\": {\"V\": 3.09, \"U\": 3.19},\"M\": {\"V\": 3.89, \"U\": 3.99},\"L\": {\"V\": 4.69, \"U\": 4.79}, },\"Ice Cream\": {\"S\": {\"V\": 3.49, \"U\": 3.59},\"M\": {\"V\": 4.49, \"U\": 4.59},\"L\": {\"V\": 5.49, \"U\": 5.59},},\"Toppings\": {\"G\": 1.59, \"N\": 1.89},\"Cookies\": {\"R\": {\"R\": 1.49, \"L\": 2.49},\"C\": {\"R\": 1.59, \"L\": 2.59},},}\n",
    "\n",
    "    if item in [\"Frozen Yogurt\", \"Ice Cream\"] and container:\n",
    "        return prices[item][size.upper()][container.capitalize()]\n",
    "    elif item == \"Toppings\":\n",
    "        return prices[item][size.upper()]\n",
    "    elif item == \"Cookies\" and container:\n",
    "        return prices[item][container.upper()][size.upper()]\n",
    "    return 0\n",
    "\n",
    "def process_order(customers, total_sales, total_orders, daily_items, daily_totals):\n",
    "    display_menu()\n",
    "    name = input(\"Enter your name: \").strip().capitalize()\n",
    "    if name in customers:\n",
    "        print(\"Welcome back, {}!\".format(name))\n",
    "    else:\n",
    "        print(\"Hello, {}! Nice to see you.\".format(name))\n",
    "        customers[name] = 0\n",
    "\n",
    "    order_total = 0\n",
    "\n",
    "    while True:\n",
    "        item_choice = input(\"You want Frozen Yogurt or Ice Cream? (Y: Frozen Yogurt, I: Ice Cream): \").strip().upper()\n",
    "\n",
    "        if item_choice == \"Y\":\n",
    "            item = \"Frozen Yogurt\"\n",
    "        elif item_choice == \"I\":\n",
    "            item = \"Ice Cream\"\n",
    "        else:\n",
    "            print(\"Invalid choice. Try again.\")\n",
    "            continue\n",
    "\n",
    "        size = input(\"What size? (S: Small, M: Medium, L: Large): \").strip().upper()\n",
    "        container = input(\"What kind of container? (V: Cone or U: Cup): \").strip().capitalize()\n",
    "        order_total += get_price(item, size, container)\n",
    "\n",
    "        topping_choice = input(\"Do you like to add a topping? (Y: Yes, N: No): \").strip().upper()\n",
    "        if topping_choice == \"Y\":\n",
    "            topping = input(\"What topping do you like? (G: Gummies, N: Nuts): \").strip().upper()\n",
    "            order_total += get_price(\"Toppings\", topping)\n",
    "\n",
    "        cookie_choice = input(\"Do you like to have cookies? (Y: Yes, N: No): \").strip().upper()\n",
    "        if cookie_choice == \"Y\":\n",
    "            cookie_type = input(\"What kind of cookies? (R: Raisin, C: Chocolate): \").strip().upper()\n",
    "            cookie_size = input(\"And the size? (R: Regular, L: Large): \").strip().upper()\n",
    "            order_total += get_price(\"Cookies\", cookie_size, cookie_type)\n",
    "\n",
    "        more = input(\"Do you want to add another item? (Y: Yes, N: No): \").strip().upper()\n",
    "        if more == \"N\":\n",
    "            break\n",
    "\n",
    "    if order_total > 0:\n",
    "        print(\"Your order total is ${:.2f}\".format(order_total))\n",
    "        customers[name] += order_total\n",
    "        total_sales += order_total\n",
    "        total_orders += 1\n",
    "\n",
    "        daily_items[item] += 1\n",
    "        daily_totals[item] += order_total\n",
    "\n",
    "    return customers, total_sales, total_orders, daily_items, daily_totals\n",
    "\n",
    "def generate_report(customers, total_sales, total_orders, daily_items, daily_totals):\n",
    "    print(\"\\n***************Sales Report***********\")\n",
    "    print(\"Customer Name\\tOrder Total\")\n",
    "    for customer, total in customers.items():\n",
    "        print(f\"{customer}\\t${total:.2f}\")\n",
    "\n",
    "    print(\"\\nItem\\t\\t#Orders\\tOrder Total\\tAverage per Order\")\n",
    "    for item, count in daily_items.items():\n",
    "        if count > 0:\n",
    "            avg = daily_totals[item] / count\n",
    "            print(f\"{item}\\t{count}\\t${daily_totals[item]:.2f}\\t\\t{avg:.2f}\")\n",
    "\n",
    "    print(f\"\\nGrand Total\\t{total_orders}\\t${total_sales:.2f}\\t\\t{total_sales / total_orders if total_orders > 0 else 0:.2f}\")\n",
    "    \n",
    "customers = {}\n",
    "total_sales = 0\n",
    "total_orders = 0\n",
    "daily_items = {\"Frozen Yogurt\": 0, \"Ice Cream\": 0}\n",
    "daily_totals = {\"Frozen Yogurt\": 0, \"Ice Cream\": 0}\n",
    "\n",
    "while True:\n",
    "    customers, total_sales, total_orders, daily_items, daily_totals = process_order(\n",
    "        customers, total_sales, total_orders, daily_items, daily_totals\n",
    "    )\n",
    "    next_action = input(\"Enter C to continue or Q to quit: \").strip().upper()\n",
    "    if next_action == \"Q\":\n",
    "        break\n",
    "\n",
    "generate_report(customers, total_sales, total_orders, daily_items, daily_totals)\n"
   ]
  },
  {
   "cell_type": "markdown",
   "id": "16a56d3c-8954-431f-b7fe-7b6aee83cf7f",
   "metadata": {},
   "source": [
    "Question no 6:"
   ]
  },
  {
   "cell_type": "code",
   "execution_count": 12,
   "id": "db5727c4-804b-4701-96c6-4434cbccebbb",
   "metadata": {},
   "outputs": [
    {
     "name": "stdout",
     "output_type": "stream",
     "text": [
      "\n",
      "Please select an item from the menu below:\n",
      "1- Load Questions\n",
      "2- Add Question\n",
      "3- Show Questions\n",
      "4- Play Game\n",
      "5- Show Scores\n",
      "6- Quit\n"
     ]
    },
    {
     "name": "stdout",
     "output_type": "stream",
     "text": [
      "Enter your choice:  6\n"
     ]
    },
    {
     "name": "stdout",
     "output_type": "stream",
     "text": [
      "Exiting game. Goodbye!\n"
     ]
    }
   ],
   "source": [
    "import random\n",
    "\n",
    "QuestionDataFile= \"quest_load.txt\"\n",
    "LeadersDataFile= \"leaders.txt\"\n",
    "questions = {}\n",
    "def load_questions():\n",
    "    global questions\n",
    "    try:\n",
    "        with open(QuestionDataFile, \"r\") as file:\n",
    "            questions = {}\n",
    "            for line in file.readlines():\n",
    "                question, answer, points = line.strip().split(\"|\")\n",
    "                questions[question] = (answer.lower(), int(points))\n",
    "    except FileNotFoundError:\n",
    "        questions = {}\n",
    "\n",
    "def save_question(question, answer, points):\n",
    "    with open(QuestionDataFile, \"a\") as file:\n",
    "        file.write(f\"{question}|{answer}|{points}\\n\")\n",
    "\n",
    "def load_scores():\n",
    "    try:\n",
    "        with open(LeadersDataFile, \"r\") as file:\n",
    "            return {line.split(\"|\")[0]: int(line.split(\"|\")[1]) for line in file.readlines()}\n",
    "    except FileNotFoundError:\n",
    "        return {}\n",
    "\n",
    "def save_scores(scores):\n",
    "    with open(LeadersDataFile, \"w\") as file:\n",
    "        for player, score in scores.items():\n",
    "            file.write(f\"{player}|{score}\\n\")\n",
    "\n",
    "def add_question():\n",
    "    question = input(\"Enter the question: \").strip()\n",
    "    answer = input(\"Enter the answer: \").strip().lower()\n",
    "    points = input(\"Enter the point value: \").strip()\n",
    "    save_question(question, answer, points)\n",
    "    print(\"Question added successfully!\")\n",
    "\n",
    "def show_questions():\n",
    "    if not questions:\n",
    "        print(\"No questions available.\")\n",
    "    else:\n",
    "        index = 1\n",
    "        for q, (a, p) in questions.items():\n",
    "            print(f\"{index}. {q} (Points: {p})\")\n",
    "            index += 1\n",
    "\n",
    "def show_scores():\n",
    "    scores = load_scores()\n",
    "    if not scores:\n",
    "        print(\"No scores available.\")\n",
    "    else:\n",
    "        sorted_scores = sorted(scores.keys(), key=scores.get, reverse=True)\n",
    "        print(\"<<< LEADER BOARD >>>\")\n",
    "        for player in sorted_scores:\n",
    "            print(f\"{player.capitalize():<15} {scores[player]}\")\n",
    "def play_game_session(name, session_questions):\n",
    "\n",
    "    scores = load_scores()\n",
    "    \n",
    "    if name in scores:\n",
    "        print(f\"Welcome back {name.capitalize()}! Your previous score was {scores[name]}\")\n",
    "    else:\n",
    "        print(\"Welcome to Trivia Madness!\")\n",
    "    \n",
    "    while True:\n",
    "        if not session_questions:\n",
    "            print(\"No more questions left in this session.\")\n",
    "            return \n",
    "        try:\n",
    "            num_questions = int(input(f\"How many questions would you like to attempt? (Max {len(session_questions)}): \"))\n",
    "            if 1 <= num_questions <= len(session_questions):\n",
    "                break\n",
    "            else:\n",
    "                print(f\"Please enter a number between 1 and {len(session_questions)}.\")\n",
    "        except ValueError:\n",
    "            print(\"Invalid input. Please enter a valid number.\")\n",
    "    selected_questions = random.sample(list(session_questions.items()), num_questions)\n",
    "    score = scores.get(name, 0)\n",
    "    for q, (a, p) in selected_questions:\n",
    "        answer = input(f\"{q} \").strip().lower()\n",
    "        if answer == a:\n",
    "            print(\"Correct!\")\n",
    "            score += p\n",
    "        else:\n",
    "            print(f\"Incorrect Response! The correct answer was: {a}\")\n",
    "        del session_questions[q]  \n",
    "    scores[name] = score\n",
    "    save_scores(scores)\n",
    "    print(f\"Game over! {name.capitalize()} scored {score} points.\")\n",
    "    while True:\n",
    "        replay = input(\"Do you want to play again? Y to play, Q to quit: \").strip().lower()\n",
    "        if replay == \"y\":\n",
    "            play_game_session(name, session_questions) \n",
    "            break\n",
    "        elif replay == \"q\":\n",
    "            break\n",
    "        else:\n",
    "            print(\"Invalid choice. Please enter Y or Q.\")\n",
    "\n",
    "def play_game(name):\n",
    "    if not questions:\n",
    "        print(\"No questions have been loaded. Please load questions first.\")\n",
    "        return\n",
    "    session_questions = questions.copy()\n",
    "\n",
    "    play_game_session(name, session_questions)\n",
    "\n",
    "load_questions()\n",
    "while True:\n",
    "    print(\"\\nPlease select an item from the menu below:\")\n",
    "    print(\"1- Load Questions\")\n",
    "    print(\"2- Add Question\")\n",
    "    print(\"3- Show Questions\")\n",
    "    print(\"4- Play Game\")\n",
    "    print(\"5- Show Scores\")\n",
    "    print(\"6- Quit\")\n",
    "        \n",
    "    choice = input(\"Enter your choice: \")\n",
    "        \n",
    "    if choice == \"1\":\n",
    "        load_questions()  \n",
    "        print(\"Questions loaded successfully!\")\n",
    "    elif choice == \"2\":\n",
    "        add_question()\n",
    "    elif choice == \"3\":\n",
    "        show_questions()\n",
    "    elif choice == \"4\":\n",
    "        name = input(\"Enter your first name: \").strip().lower() \n",
    "        play_game(name) \n",
    "    elif choice == \"5\":\n",
    "        show_scores()\n",
    "    elif choice == \"6\":\n",
    "        print(\"Exiting game. Goodbye!\")\n",
    "        break\n",
    "    else:\n",
    "        print(\"Invalid choice. Please try again.\")"
   ]
  },
  {
   "cell_type": "code",
   "execution_count": null,
   "id": "74f614c1-43f0-4310-9e6e-4241ecbac9d2",
   "metadata": {},
   "outputs": [],
   "source": []
  }
 ],
 "metadata": {
  "kernelspec": {
   "display_name": "base",
   "language": "python",
   "name": "python3"
  },
  "language_info": {
   "codemirror_mode": {
    "name": "ipython",
    "version": 3
   },
   "file_extension": ".py",
   "mimetype": "text/x-python",
   "name": "python",
   "nbconvert_exporter": "python",
   "pygments_lexer": "ipython3",
   "version": "3.12.2"
  }
 },
 "nbformat": 4,
 "nbformat_minor": 5
}
